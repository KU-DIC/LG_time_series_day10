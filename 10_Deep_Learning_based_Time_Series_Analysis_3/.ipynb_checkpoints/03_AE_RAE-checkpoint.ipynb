{
 "cells": [
  {
   "cell_type": "markdown",
   "metadata": {},
   "source": [
    "# __[ LG 에너지솔루션 ] Anomaly Detection Part 2: Model-based Methods__"
   ]
  },
  {
   "cell_type": "markdown",
   "metadata": {},
   "source": [
    "# <br>__1. Data: NASA Bearing Dataset__"
   ]
  },
  {
   "cell_type": "code",
   "execution_count": 1,
   "metadata": {},
   "outputs": [],
   "source": [
    "import pandas as pd\n",
    "import numpy as np\n",
    "import seaborn as sns\n",
    "import matplotlib.pyplot as plt\n",
    "from sklearn.preprocessing import MinMaxScaler"
   ]
  },
  {
   "cell_type": "markdown",
   "metadata": {},
   "source": [
    "### Step1. 데이터 불러오기"
   ]
  },
  {
   "cell_type": "code",
   "execution_count": 2,
   "metadata": {
    "scrolled": true
   },
   "outputs": [
    {
     "data": {
      "text/html": [
       "<div>\n",
       "<style scoped>\n",
       "    .dataframe tbody tr th:only-of-type {\n",
       "        vertical-align: middle;\n",
       "    }\n",
       "\n",
       "    .dataframe tbody tr th {\n",
       "        vertical-align: top;\n",
       "    }\n",
       "\n",
       "    .dataframe thead th {\n",
       "        text-align: right;\n",
       "    }\n",
       "</style>\n",
       "<table border=\"1\" class=\"dataframe\">\n",
       "  <thead>\n",
       "    <tr style=\"text-align: right;\">\n",
       "      <th></th>\n",
       "      <th>Bearing 1</th>\n",
       "      <th>Bearing 2</th>\n",
       "      <th>Bearing 3</th>\n",
       "      <th>Bearing 4</th>\n",
       "      <th>anomaly</th>\n",
       "      <th>data_type</th>\n",
       "    </tr>\n",
       "  </thead>\n",
       "  <tbody>\n",
       "    <tr>\n",
       "      <th>2004-02-12 10:32:39</th>\n",
       "      <td>0.058333</td>\n",
       "      <td>0.071832</td>\n",
       "      <td>0.083242</td>\n",
       "      <td>0.043067</td>\n",
       "      <td>False</td>\n",
       "      <td>train</td>\n",
       "    </tr>\n",
       "    <tr>\n",
       "      <th>2004-02-12 10:42:39</th>\n",
       "      <td>0.058995</td>\n",
       "      <td>0.074006</td>\n",
       "      <td>0.084435</td>\n",
       "      <td>0.044541</td>\n",
       "      <td>False</td>\n",
       "      <td>train</td>\n",
       "    </tr>\n",
       "    <tr>\n",
       "      <th>2004-02-12 10:52:39</th>\n",
       "      <td>0.060236</td>\n",
       "      <td>0.074227</td>\n",
       "      <td>0.083926</td>\n",
       "      <td>0.044443</td>\n",
       "      <td>False</td>\n",
       "      <td>train</td>\n",
       "    </tr>\n",
       "    <tr>\n",
       "      <th>2004-02-12 11:02:39</th>\n",
       "      <td>0.061455</td>\n",
       "      <td>0.073844</td>\n",
       "      <td>0.084457</td>\n",
       "      <td>0.045081</td>\n",
       "      <td>False</td>\n",
       "      <td>train</td>\n",
       "    </tr>\n",
       "    <tr>\n",
       "      <th>2004-02-12 11:12:39</th>\n",
       "      <td>0.061361</td>\n",
       "      <td>0.075609</td>\n",
       "      <td>0.082837</td>\n",
       "      <td>0.045118</td>\n",
       "      <td>False</td>\n",
       "      <td>train</td>\n",
       "    </tr>\n",
       "  </tbody>\n",
       "</table>\n",
       "</div>"
      ],
      "text/plain": [
       "                     Bearing 1  Bearing 2  Bearing 3  Bearing 4  anomaly  \\\n",
       "2004-02-12 10:32:39   0.058333   0.071832   0.083242   0.043067    False   \n",
       "2004-02-12 10:42:39   0.058995   0.074006   0.084435   0.044541    False   \n",
       "2004-02-12 10:52:39   0.060236   0.074227   0.083926   0.044443    False   \n",
       "2004-02-12 11:02:39   0.061455   0.073844   0.084457   0.045081    False   \n",
       "2004-02-12 11:12:39   0.061361   0.075609   0.082837   0.045118    False   \n",
       "\n",
       "                    data_type  \n",
       "2004-02-12 10:32:39     train  \n",
       "2004-02-12 10:42:39     train  \n",
       "2004-02-12 10:52:39     train  \n",
       "2004-02-12 11:02:39     train  \n",
       "2004-02-12 11:12:39     train  "
      ]
     },
     "execution_count": 2,
     "metadata": {},
     "output_type": "execute_result"
    }
   ],
   "source": [
    "# 데이터 불러오기\n",
    "merged_data = pd.read_csv('./data/merged_dataset.csv', index_col=0)\n",
    "merged_data.index = pd.to_datetime(merged_data.index)\n",
    "merged_data.head()"
   ]
  },
  {
   "cell_type": "markdown",
   "metadata": {},
   "source": [
    "### Step2. 데이터 Split"
   ]
  },
  {
   "cell_type": "code",
   "execution_count": 3,
   "metadata": {},
   "outputs": [
    {
     "name": "stdout",
     "output_type": "stream",
     "text": [
      "Training data shape: (492, 4)\n",
      "Test data shape: (492, 4)\n"
     ]
    }
   ],
   "source": [
    "X_train = merged_data[merged_data['data_type'] == 'train'].iloc[:, :4]\n",
    "y_train = merged_data[merged_data['data_type'] == 'train'].iloc[:, -2].values\n",
    "\n",
    "X_test = merged_data[merged_data['data_type'] == 'test'].iloc[:, :4]\n",
    "y_test = merged_data[merged_data['data_type'] == 'test'].iloc[:, -2].values\n",
    "\n",
    "print(\"Training data shape:\", X_train.shape)\n",
    "print(\"Test data shape:\", X_test.shape)"
   ]
  },
  {
   "cell_type": "markdown",
   "metadata": {},
   "source": [
    "### Step3. 데이터 정규화"
   ]
  },
  {
   "cell_type": "code",
   "execution_count": 4,
   "metadata": {},
   "outputs": [],
   "source": [
    "# train 데이터를 기반으로 train/test 데이터에 대하여 min-max scaling 적용 \n",
    "scaler = MinMaxScaler()\n",
    "scaler = scaler.fit(X_train)"
   ]
  },
  {
   "cell_type": "code",
   "execution_count": 5,
   "metadata": {},
   "outputs": [],
   "source": [
    "X_train = scaler.transform(X_train)\n",
    "X_test = scaler.transform(X_test)"
   ]
  },
  {
   "cell_type": "code",
   "execution_count": 6,
   "metadata": {},
   "outputs": [
    {
     "data": {
      "text/plain": [
       "array([[0.00812185, 0.        , 0.85048225, 0.1004792 ],\n",
       "       [0.14279757, 0.36417249, 0.95947133, 0.61178184],\n",
       "       [0.39518051, 0.4011762 , 0.91295856, 0.57781465],\n",
       "       ...,\n",
       "       [0.16671631, 0.24426213, 0.12816763, 0.24549164],\n",
       "       [0.22469121, 0.23437321, 0.17221006, 0.        ],\n",
       "       [0.5461595 , 0.20136924, 0.18995724, 0.50353049]])"
      ]
     },
     "execution_count": 6,
     "metadata": {},
     "output_type": "execute_result"
    }
   ],
   "source": [
    "X_train"
   ]
  },
  {
   "cell_type": "markdown",
   "metadata": {},
   "source": [
    "---"
   ]
  },
  {
   "cell_type": "markdown",
   "metadata": {},
   "source": [
    "# __<br> 2. 모델 기반 이상치 탐지 기법__: Auto-Encoder & Recurrent Auto-Encoder"
   ]
  },
  {
   "cell_type": "markdown",
   "metadata": {},
   "source": [
    "# __2-1. Auto-Encoder__"
   ]
  },
  {
   "cell_type": "markdown",
   "metadata": {},
   "source": [
    "### Auto-Encoder (Auto-Associative Neural Network)\n",
    ">입력과 출력이 동일한 인공신경망 구조 <br>\n",
    ">정상 데이터에 대한 학습이 충분히 되어 있을 경우 정상 데이터는 자기 자신을 잘 복원할 수 있지만, 이상치 제이터는 학습 기회가 적어 상대적으로 잘 복원하지 못할 것을 가정"
   ]
  },
  {
   "cell_type": "markdown",
   "metadata": {},
   "source": [
    "<img src=\"https://i.imgur.com/DTgug9o.jpg\" width=\"700\">"
   ]
  },
  {
   "cell_type": "code",
   "execution_count": 7,
   "metadata": {},
   "outputs": [],
   "source": [
    "import torch\n",
    "import torch.nn as nn\n",
    "import torch.nn.functional as F\n",
    "import torchvision\n",
    "import torchvision.transforms as transforms\n",
    "\n",
    "from torch.utils.data import Dataset\n",
    "from torch.utils.data import DataLoader\n",
    "\n",
    "from sklearn.metrics import confusion_matrix\n",
    "from sklearn.metrics import f1_score"
   ]
  },
  {
   "cell_type": "code",
   "execution_count": 8,
   "metadata": {},
   "outputs": [],
   "source": [
    "# hyper-parameter 설정\n",
    "input_size = 4\n",
    "hidden_size = 2\n",
    "\n",
    "num_epochs = 20\n",
    "batch_size = 32\n",
    "learning_rate = 0.001\n",
    "\n",
    "device = 'cpu'"
   ]
  },
  {
   "cell_type": "markdown",
   "metadata": {},
   "source": [
    "### Step 1. DataLoader 만들기 (Custom dataset)"
   ]
  },
  {
   "cell_type": "code",
   "execution_count": 9,
   "metadata": {
    "scrolled": true
   },
   "outputs": [],
   "source": [
    "class AE_CustomDataset(Dataset): \n",
    "    def __init__(self, data):\n",
    "        self.data = data\n",
    "\n",
    "    # 총 데이터의 개수를 리턴\n",
    "    def __len__(self): \n",
    "        return len(self.data)\n",
    "\n",
    "    # 인덱스를 입력받아 그에 맵핑되는 입출력 데이터를 파이토치의 Tensor 형태로 리턴\n",
    "    def __getitem__(self, idx): \n",
    "        x = torch.FloatTensor(self.data[idx])\n",
    "        return x"
   ]
  },
  {
   "cell_type": "code",
   "execution_count": 10,
   "metadata": {},
   "outputs": [],
   "source": [
    "ae_train_dataset = AE_CustomDataset(X_train)\n",
    "ae_train_loader = DataLoader(ae_train_dataset, batch_size=batch_size, shuffle=True)\n",
    "\n",
    "ae_test_dataset = AE_CustomDataset(X_test)\n",
    "ae_test_loader = DataLoader(ae_test_dataset, batch_size=batch_size, shuffle=False)"
   ]
  },
  {
   "cell_type": "code",
   "execution_count": 11,
   "metadata": {},
   "outputs": [
    {
     "data": {
      "text/plain": [
       "torch.Size([32, 4])"
      ]
     },
     "execution_count": 11,
     "metadata": {},
     "output_type": "execute_result"
    }
   ],
   "source": [
    "x = next(iter(ae_train_loader))\n",
    "x.shape"
   ]
  },
  {
   "cell_type": "code",
   "execution_count": 12,
   "metadata": {},
   "outputs": [
    {
     "data": {
      "text/plain": [
       "torch.Size([4])"
      ]
     },
     "execution_count": 12,
     "metadata": {},
     "output_type": "execute_result"
    }
   ],
   "source": [
    "x = x[0]\n",
    "x.shape"
   ]
  },
  {
   "cell_type": "code",
   "execution_count": 13,
   "metadata": {},
   "outputs": [
    {
     "data": {
      "text/plain": [
       "torch.Size([4, 1])"
      ]
     },
     "execution_count": 13,
     "metadata": {},
     "output_type": "execute_result"
    }
   ],
   "source": [
    "x = x.view(-1, 1)\n",
    "x.shape"
   ]
  },
  {
   "cell_type": "markdown",
   "metadata": {},
   "source": [
    "### Step 2. 모델 구축"
   ]
  },
  {
   "cell_type": "code",
   "execution_count": 14,
   "metadata": {},
   "outputs": [],
   "source": [
    "class AutoEncoder(nn.Module):\n",
    "    def __init__(self, input_size, hidden_size):\n",
    "        super(AutoEncoder, self).__init__()\n",
    "        self.encoder = nn.Sequential(\n",
    "          nn.Linear(input_size, hidden_size),\n",
    "          nn.ReLU()\n",
    "        )\n",
    "        self.decoder = nn.Sequential(\n",
    "          nn.Linear(hidden_size, input_size)\n",
    "        )\n",
    "        \n",
    "    def forward(self, x):\n",
    "        out = x.view(x.size(0), -1)\n",
    "        out = self.encoder(out)\n",
    "        out = self.decoder(out)\n",
    "        out = F.sigmoid(out)\n",
    "        out = out.view(x.size())\n",
    "        return out"
   ]
  },
  {
   "cell_type": "code",
   "execution_count": 15,
   "metadata": {},
   "outputs": [],
   "source": [
    "ae_model = AutoEncoder(input_size, hidden_size)"
   ]
  },
  {
   "cell_type": "markdown",
   "metadata": {},
   "source": [
    "### Step 3. Train 데이터로 모델 학습"
   ]
  },
  {
   "cell_type": "code",
   "execution_count": 16,
   "metadata": {
    "scrolled": true
   },
   "outputs": [],
   "source": [
    "# model 학습\n",
    "def train_model(data_loader, model, criterion, num_epochs, learning_rate, device):\n",
    "    model = model.to(device)\n",
    "    optimizer = torch.optim.Adam(model.parameters(), lr=learning_rate)\n",
    "    \n",
    "    model.train()\n",
    "    for epoch in range(num_epochs):\n",
    "        for i, x in enumerate(data_loader):\n",
    "            x = x.to(device)\n",
    "            \n",
    "            # Forward pass\n",
    "            outputs = model(x)\n",
    "            loss = criterion(outputs, x)\n",
    "\n",
    "            # Backward and optimize\n",
    "            optimizer.zero_grad()\n",
    "            loss.backward()\n",
    "            optimizer.step()\n",
    "\n",
    "            if (i+1) % 5 == 0:\n",
    "                print ('Epoch [{}/{}], Step [{}/{}], Loss: {:.4f}' \n",
    "                       .format(epoch + 1, num_epochs, i + 1, len(data_loader), loss.item()))\n",
    "    \n",
    "    return model"
   ]
  },
  {
   "cell_type": "code",
   "execution_count": 17,
   "metadata": {
    "scrolled": true
   },
   "outputs": [
    {
     "name": "stderr",
     "output_type": "stream",
     "text": [
      "/Users/heejeongchoi/miniconda3/envs/dsba/lib/python3.6/site-packages/torch/nn/functional.py:1709: UserWarning: nn.functional.sigmoid is deprecated. Use torch.sigmoid instead.\n",
      "  warnings.warn(\"nn.functional.sigmoid is deprecated. Use torch.sigmoid instead.\")\n"
     ]
    },
    {
     "name": "stdout",
     "output_type": "stream",
     "text": [
      "Epoch [1/20], Step [5/16], Loss: 0.0535\n",
      "Epoch [1/20], Step [10/16], Loss: 0.0535\n",
      "Epoch [1/20], Step [15/16], Loss: 0.0530\n",
      "Epoch [2/20], Step [5/16], Loss: 0.0450\n",
      "Epoch [2/20], Step [10/16], Loss: 0.0489\n",
      "Epoch [2/20], Step [15/16], Loss: 0.0500\n",
      "Epoch [3/20], Step [5/16], Loss: 0.0462\n",
      "Epoch [3/20], Step [10/16], Loss: 0.0506\n",
      "Epoch [3/20], Step [15/16], Loss: 0.0466\n",
      "Epoch [4/20], Step [5/16], Loss: 0.0506\n",
      "Epoch [4/20], Step [10/16], Loss: 0.0495\n",
      "Epoch [4/20], Step [15/16], Loss: 0.0498\n",
      "Epoch [5/20], Step [5/16], Loss: 0.0483\n",
      "Epoch [5/20], Step [10/16], Loss: 0.0504\n",
      "Epoch [5/20], Step [15/16], Loss: 0.0518\n",
      "Epoch [6/20], Step [5/16], Loss: 0.0527\n",
      "Epoch [6/20], Step [10/16], Loss: 0.0476\n",
      "Epoch [6/20], Step [15/16], Loss: 0.0408\n",
      "Epoch [7/20], Step [5/16], Loss: 0.0464\n",
      "Epoch [7/20], Step [10/16], Loss: 0.0494\n",
      "Epoch [7/20], Step [15/16], Loss: 0.0381\n",
      "Epoch [8/20], Step [5/16], Loss: 0.0410\n",
      "Epoch [8/20], Step [10/16], Loss: 0.0411\n",
      "Epoch [8/20], Step [15/16], Loss: 0.0441\n",
      "Epoch [9/20], Step [5/16], Loss: 0.0449\n",
      "Epoch [9/20], Step [10/16], Loss: 0.0483\n",
      "Epoch [9/20], Step [15/16], Loss: 0.0451\n",
      "Epoch [10/20], Step [5/16], Loss: 0.0459\n",
      "Epoch [10/20], Step [10/16], Loss: 0.0407\n",
      "Epoch [10/20], Step [15/16], Loss: 0.0480\n",
      "Epoch [11/20], Step [5/16], Loss: 0.0470\n",
      "Epoch [11/20], Step [10/16], Loss: 0.0399\n",
      "Epoch [11/20], Step [15/16], Loss: 0.0349\n",
      "Epoch [12/20], Step [5/16], Loss: 0.0446\n",
      "Epoch [12/20], Step [10/16], Loss: 0.0395\n",
      "Epoch [12/20], Step [15/16], Loss: 0.0515\n",
      "Epoch [13/20], Step [5/16], Loss: 0.0422\n",
      "Epoch [13/20], Step [10/16], Loss: 0.0423\n",
      "Epoch [13/20], Step [15/16], Loss: 0.0437\n",
      "Epoch [14/20], Step [5/16], Loss: 0.0426\n",
      "Epoch [14/20], Step [10/16], Loss: 0.0474\n",
      "Epoch [14/20], Step [15/16], Loss: 0.0460\n",
      "Epoch [15/20], Step [5/16], Loss: 0.0438\n",
      "Epoch [15/20], Step [10/16], Loss: 0.0517\n",
      "Epoch [15/20], Step [15/16], Loss: 0.0397\n",
      "Epoch [16/20], Step [5/16], Loss: 0.0382\n",
      "Epoch [16/20], Step [10/16], Loss: 0.0407\n",
      "Epoch [16/20], Step [15/16], Loss: 0.0410\n",
      "Epoch [17/20], Step [5/16], Loss: 0.0398\n",
      "Epoch [17/20], Step [10/16], Loss: 0.0376\n",
      "Epoch [17/20], Step [15/16], Loss: 0.0477\n",
      "Epoch [18/20], Step [5/16], Loss: 0.0394\n",
      "Epoch [18/20], Step [10/16], Loss: 0.0389\n",
      "Epoch [18/20], Step [15/16], Loss: 0.0373\n",
      "Epoch [19/20], Step [5/16], Loss: 0.0498\n",
      "Epoch [19/20], Step [10/16], Loss: 0.0379\n",
      "Epoch [19/20], Step [15/16], Loss: 0.0454\n",
      "Epoch [20/20], Step [5/16], Loss: 0.0361\n",
      "Epoch [20/20], Step [10/16], Loss: 0.0439\n",
      "Epoch [20/20], Step [15/16], Loss: 0.0360\n"
     ]
    }
   ],
   "source": [
    "ae_train_criterion = nn.MSELoss()\n",
    "ae_model = train_model(ae_train_loader, ae_model, ae_train_criterion, num_epochs, learning_rate, device)"
   ]
  },
  {
   "cell_type": "markdown",
   "metadata": {},
   "source": [
    "### Step 4. 적합된 모델을 기반으로 train/test 데이터의 anomaly score 도출 (Inference)"
   ]
  },
  {
   "cell_type": "code",
   "execution_count": 18,
   "metadata": {},
   "outputs": [],
   "source": [
    "# model inference\n",
    "def inference_model(data_loader, model, criterion, device):\n",
    "    model = model.to(device)\n",
    "    \n",
    "    model.eval()\n",
    "    with torch.no_grad():\n",
    "        infer_loss = []\n",
    "        for i, x in enumerate(data_loader):\n",
    "            x = x.to(device)\n",
    "            \n",
    "            # Forward pass\n",
    "            output = model(x)\n",
    "            loss = criterion(output, x)\n",
    "            loss = loss.mean(axis=1)\n",
    "\n",
    "            infer_loss += list(loss.data.numpy())\n",
    "    return infer_loss"
   ]
  },
  {
   "cell_type": "code",
   "execution_count": 19,
   "metadata": {
    "scrolled": true
   },
   "outputs": [],
   "source": [
    "# train 데이터에 대한 최종 결과 도출\n",
    "ae_infer_criterion = nn.L1Loss(reduction='none')\n",
    "ae_train_loss = inference_model(ae_train_loader, ae_model, ae_infer_criterion, device)\n",
    "ae_test_loss = inference_model(ae_test_loader, ae_model, ae_infer_criterion, device)"
   ]
  },
  {
   "cell_type": "code",
   "execution_count": 20,
   "metadata": {},
   "outputs": [
    {
     "name": "stderr",
     "output_type": "stream",
     "text": [
      "/Users/heejeongchoi/miniconda3/envs/dsba/lib/python3.6/site-packages/seaborn/distributions.py:2551: FutureWarning: `distplot` is a deprecated function and will be removed in a future version. Please adapt your code to use either `displot` (a figure-level function with similar flexibility) or `histplot` (an axes-level function for histograms).\n",
      "  warnings.warn(msg, FutureWarning)\n",
      "/Users/heejeongchoi/miniconda3/envs/dsba/lib/python3.6/site-packages/seaborn/distributions.py:2551: FutureWarning: `distplot` is a deprecated function and will be removed in a future version. Please adapt your code to use either `displot` (a figure-level function with similar flexibility) or `histplot` (an axes-level function for histograms).\n",
      "  warnings.warn(msg, FutureWarning)\n"
     ]
    },
    {
     "data": {
      "text/plain": [
       "Text(0.5, 1.0, 'Test Data')"
      ]
     },
     "execution_count": 20,
     "metadata": {},
     "output_type": "execute_result"
    },
    {
     "data": {
      "image/png": "[encoded data removed]",
      "text/plain": [
       "<Figure size 576x576 with 2 Axes>"
      ]
     },
     "metadata": {
      "needs_background": "light"
     },
     "output_type": "display_data"
    }
   ],
   "source": [
    "# train/test 데이터의 anomaly score 분포 시각화\n",
    "fig, (ax1, ax2) = plt.subplots(nrows=2, ncols=1, figsize = (8, 8))\n",
    "\n",
    "sns.distplot(ae_train_loss, bins=100, kde=True, color='blue', ax=ax1)\n",
    "sns.distplot(ae_test_loss, bins=100, kde=True, color='red', ax=ax2)\n",
    "ax1.set_title(\"Train Data\")\n",
    "ax2.set_title(\"Test Data\")"
   ]
  },
  {
   "cell_type": "markdown",
   "metadata": {},
   "source": [
    "### Step 5. Threshold 탐색"
   ]
  },
  {
   "cell_type": "code",
   "execution_count": 21,
   "metadata": {},
   "outputs": [],
   "source": [
    "# threshold 탐색\n",
    "# score의 min ~ max 범위를 num_step개로 균등 분할한 threshold에 대하여 best threshold 탐색 \n",
    "def search_best_threshold(score, y_true, num_step):\n",
    "    best_f1 = 0.5\n",
    "    best_threshold = None\n",
    "    for threshold in np.linspace(min(score), max(score), num_step):\n",
    "        y_pred = threshold < score\n",
    "\n",
    "        f1 = f1_score(y_true, y_pred)\n",
    "        if f1 > best_f1:\n",
    "            best_f1 = f1\n",
    "            best_threshold = threshold\n",
    "\n",
    "    print('Best threshold: ', round(best_threshold, 4))\n",
    "    print('Best F1 Score:', round(best_f1, 4))\n",
    "    return best_threshold"
   ]
  },
  {
   "cell_type": "code",
   "execution_count": 22,
   "metadata": {
    "scrolled": true
   },
   "outputs": [
    {
     "name": "stdout",
     "output_type": "stream",
     "text": [
      "Best threshold:  1.3884\n",
      "Best F1 Score: 0.9725\n"
     ]
    }
   ],
   "source": [
    "# best threshold 도출\n",
    "ae_best_threshold = search_best_threshold(ae_test_loss, y_test, num_step=1000)"
   ]
  },
  {
   "cell_type": "markdown",
   "metadata": {},
   "source": [
    "### Step 6. Best threshold를 기반으로 이상치 탐지 모형 평가"
   ]
  },
  {
   "cell_type": "code",
   "execution_count": 23,
   "metadata": {},
   "outputs": [
    {
     "data": {
      "text/html": [
       "<div>\n",
       "<style scoped>\n",
       "    .dataframe tbody tr th:only-of-type {\n",
       "        vertical-align: middle;\n",
       "    }\n",
       "\n",
       "    .dataframe tbody tr th {\n",
       "        vertical-align: top;\n",
       "    }\n",
       "\n",
       "    .dataframe thead th {\n",
       "        text-align: right;\n",
       "    }\n",
       "</style>\n",
       "<table border=\"1\" class=\"dataframe\">\n",
       "  <thead>\n",
       "    <tr style=\"text-align: right;\">\n",
       "      <th></th>\n",
       "      <th>score</th>\n",
       "      <th>anomaly</th>\n",
       "    </tr>\n",
       "  </thead>\n",
       "  <tbody>\n",
       "    <tr>\n",
       "      <th>2004-02-12 10:32:39</th>\n",
       "      <td>0.167023</td>\n",
       "      <td>False</td>\n",
       "    </tr>\n",
       "    <tr>\n",
       "      <th>2004-02-12 10:42:39</th>\n",
       "      <td>0.105349</td>\n",
       "      <td>False</td>\n",
       "    </tr>\n",
       "    <tr>\n",
       "      <th>2004-02-12 10:52:39</th>\n",
       "      <td>0.205722</td>\n",
       "      <td>False</td>\n",
       "    </tr>\n",
       "    <tr>\n",
       "      <th>2004-02-12 11:02:39</th>\n",
       "      <td>0.195830</td>\n",
       "      <td>False</td>\n",
       "    </tr>\n",
       "    <tr>\n",
       "      <th>2004-02-12 11:12:39</th>\n",
       "      <td>0.137512</td>\n",
       "      <td>False</td>\n",
       "    </tr>\n",
       "  </tbody>\n",
       "</table>\n",
       "</div>"
      ],
      "text/plain": [
       "                        score  anomaly\n",
       "2004-02-12 10:32:39  0.167023    False\n",
       "2004-02-12 10:42:39  0.105349    False\n",
       "2004-02-12 10:52:39  0.205722    False\n",
       "2004-02-12 11:02:39  0.195830    False\n",
       "2004-02-12 11:12:39  0.137512    False"
      ]
     },
     "execution_count": 23,
     "metadata": {},
     "output_type": "execute_result"
    }
   ],
   "source": [
    "# 최종 결과 도출\n",
    "ae_scores = pd.DataFrame(index=merged_data.index)\n",
    "ae_scores['score'] = list(np.hstack([ae_train_loss, ae_test_loss]))\n",
    "ae_scores['anomaly'] = ae_best_threshold < ae_scores['score']\n",
    "ae_scores.head()"
   ]
  },
  {
   "cell_type": "code",
   "execution_count": 24,
   "metadata": {
    "scrolled": true
   },
   "outputs": [],
   "source": [
    "# anomaly score plot 도출\n",
    "def draw_plot(scores, threshold):\n",
    "    normal_scores = scores[scores['anomaly'] == False]\n",
    "    abnormal_scores = scores[scores['anomaly'] == True]\n",
    "\n",
    "    plt.figure(figsize = (12,5))\n",
    "    plt.scatter(normal_scores.index, normal_scores['score'], label='Normal', c='blue', s=3)\n",
    "    plt.scatter(abnormal_scores.index, abnormal_scores['score'], label='Abnormal', c='red', s=3)\n",
    "    \n",
    "    plt.axhline(threshold, c='green', alpha=0.7)\n",
    "    plt.axvline(merged_data.index[int(len(merged_data) * 0.5)], c='orange', ls='--')\n",
    "    \n",
    "    plt.xlabel('Date')\n",
    "    plt.ylabel('Anomaly Score')\n",
    "    plt.legend()\n",
    "    \n",
    "    plt.show()"
   ]
  },
  {
   "cell_type": "code",
   "execution_count": 25,
   "metadata": {},
   "outputs": [
    {
     "data": {
      "image/png": "[encoded data removed]",
      "text/plain": [
       "<Figure size 864x360 with 1 Axes>"
      ]
     },
     "metadata": {
      "needs_background": "light"
     },
     "output_type": "display_data"
    }
   ],
   "source": [
    "# 전체 데이터의 anomaly score 확인\n",
    "draw_plot(ae_scores, ae_best_threshold)"
   ]
  },
  {
   "cell_type": "code",
   "execution_count": 26,
   "metadata": {},
   "outputs": [],
   "source": [
    "# FRR, FAR, F1 score 도출\n",
    "def calculate_metric(y_true, y_pred):\n",
    "    cm = confusion_matrix(y_true, y_pred, labels=[True, False])\n",
    "    tp, fn, fp, tn = cm.ravel()\n",
    "    \n",
    "    frr = fp / (fp + tn)\n",
    "    far = fn / (fn + tp) \n",
    "    \n",
    "    f1 = f1_score(y_true, y_pred)\n",
    "    \n",
    "    return frr, far, f1"
   ]
  },
  {
   "cell_type": "code",
   "execution_count": 27,
   "metadata": {},
   "outputs": [
    {
     "name": "stdout",
     "output_type": "stream",
     "text": [
      "**  FRR: 0.0153  |  FAR: 0.0439  |  F1 Score: 0.9725\n"
     ]
    }
   ],
   "source": [
    "## F1 Score: 0.9672\n",
    "frr, far, f1 = calculate_metric(y_test, ae_scores['anomaly'].iloc[int(len(merged_data) * 0.5):])\n",
    "\n",
    "print(\"**  FRR: {}  |  FAR: {}  |  F1 Score: {}\".format(round(frr, 4), round(far, 4), round(f1, 4)))"
   ]
  },
  {
   "cell_type": "markdown",
   "metadata": {},
   "source": [
    "---"
   ]
  },
  {
   "cell_type": "markdown",
   "metadata": {},
   "source": [
    "# __<br>2-2. Recurrent Auto-Encoder__"
   ]
  },
  {
   "cell_type": "markdown",
   "metadata": {},
   "source": [
    "### Recurrent Auto-Encoder\n",
    ">입력과 출력이 동일한 인공신경망 구조 <br>\n",
    ">정상 데이터에 대한 학습이 충분히 되어 있을 경우 정상 데이터는 자기 자신을 잘 복원할 수 있지만, 이상치 제이터는 학습 기회가 적어 상대적으로 잘 복원하지 못할 것을 가정"
   ]
  },
  {
   "cell_type": "markdown",
   "metadata": {},
   "source": [
    "<img src=\"https://i.imgur.com/KpyS57D.jpg\" width=\"700\">"
   ]
  },
  {
   "cell_type": "code",
   "execution_count": 28,
   "metadata": {},
   "outputs": [],
   "source": [
    "# hyper-parameter 설정\n",
    "seq_len = 5\n",
    "input_size = 4\n",
    "hidden_size = 2\n",
    "\n",
    "num_epochs = 20\n",
    "batch_size = 32\n",
    "learning_rate = 0.001\n",
    "\n",
    "device = 'cpu'"
   ]
  },
  {
   "cell_type": "markdown",
   "metadata": {},
   "source": [
    "### Step 1. DataLoader 만들기 (Custom dataset)"
   ]
  },
  {
   "cell_type": "code",
   "execution_count": 30,
   "metadata": {},
   "outputs": [],
   "source": [
    "class RAE_CustomDataset(Dataset): \n",
    "    def __init__(self, data, seq_len):\n",
    "        self.data = data\n",
    "        self.seq_len = seq_len\n",
    "        self.start_point = range(0, len(data) - seq_len)\n",
    "\n",
    "    # 총 데이터의 개수를 리턴\n",
    "    def __len__(self): \n",
    "        return len(self.start_point)\n",
    "\n",
    "    # 인덱스를 입력받아 그에 맵핑되는 입출력 데이터를 파이토치의 Tensor 형태로 리턴\n",
    "    def __getitem__(self, idx):\n",
    "        x = torch.FloatTensor(self.data[self.start_point[idx]:self.start_point[idx] + self.seq_len]) # shape: (batch_size, seq_len, n_features)\n",
    "        return x"
   ]
  },
  {
   "cell_type": "code",
   "execution_count": 31,
   "metadata": {},
   "outputs": [],
   "source": [
    "rae_train_dataset = RAE_CustomDataset(X_train, seq_len)\n",
    "rae_train_loader = DataLoader(rae_train_dataset, batch_size=batch_size, shuffle=True)\n",
    "\n",
    "rae_test_dataset = RAE_CustomDataset(X_test, seq_len)\n",
    "rae_test_loader = DataLoader(rae_test_dataset, batch_size=batch_size, shuffle=False)"
   ]
  },
  {
   "cell_type": "markdown",
   "metadata": {},
   "source": [
    "### Step 2. 모델 구축"
   ]
  },
  {
   "cell_type": "code",
   "execution_count": 32,
   "metadata": {},
   "outputs": [],
   "source": [
    "class RecurrentAutoEncoder(nn.Module):\n",
    "    def __init__(self, input_size, hidden_size, seq_len):\n",
    "        super(RecurrentAutoEncoder, self).__init__()\n",
    "        self.seq_len = seq_len\n",
    "        \n",
    "        self.encoder = nn.LSTM(\n",
    "            input_size = input_size,\n",
    "            hidden_size = hidden_size,\n",
    "            num_layers = 1,\n",
    "            batch_first=True\n",
    "        )\n",
    "        self.decoder = nn.LSTM(\n",
    "            input_size = hidden_size,\n",
    "            hidden_size = 2 * hidden_size,\n",
    "            num_layers = 1,\n",
    "            batch_first = True\n",
    "        )\n",
    "        self.fc = nn.Linear(2 * hidden_size, input_size)\n",
    "                \n",
    "    def forward(self, x):\n",
    "        enc_x, (enc_hidden_state, enc_cell_state) = self.encoder(x)\n",
    "        enc_last_hidden = enc_hidden_state[-1, :, :]\n",
    "        \n",
    "        enc_last_hidden = enc_last_hidden.unsqueeze(1).repeat(1, self.seq_len, 1)\n",
    "        dec_x, (dec_hidden_state, dec_cell_state) = self.decoder(enc_last_hidden)\n",
    "        dec_x = dec_x.reshape((x.size(0), self.seq_len, -1))\n",
    "        \n",
    "        out = self.fc(dec_x)\n",
    "        out = F.sigmoid(out)\n",
    "        return out"
   ]
  },
  {
   "cell_type": "code",
   "execution_count": 33,
   "metadata": {},
   "outputs": [],
   "source": [
    "rae_model = RecurrentAutoEncoder(input_size, hidden_size, seq_len)"
   ]
  },
  {
   "cell_type": "markdown",
   "metadata": {},
   "source": [
    "### Step 3. Train 데이터로 모델 학습"
   ]
  },
  {
   "cell_type": "code",
   "execution_count": 34,
   "metadata": {
    "scrolled": true
   },
   "outputs": [
    {
     "name": "stdout",
     "output_type": "stream",
     "text": [
      "Epoch [1/20], Step [5/16], Loss: 0.0391\n",
      "Epoch [1/20], Step [10/16], Loss: 0.0443\n",
      "Epoch [1/20], Step [15/16], Loss: 0.0394\n"
     ]
    },
    {
     "name": "stderr",
     "output_type": "stream",
     "text": [
      "/Users/heejeongchoi/miniconda3/envs/dsba/lib/python3.6/site-packages/torch/nn/functional.py:1709: UserWarning: nn.functional.sigmoid is deprecated. Use torch.sigmoid instead.\n",
      "  warnings.warn(\"nn.functional.sigmoid is deprecated. Use torch.sigmoid instead.\")\n"
     ]
    },
    {
     "name": "stdout",
     "output_type": "stream",
     "text": [
      "Epoch [2/20], Step [5/16], Loss: 0.0399\n",
      "Epoch [2/20], Step [10/16], Loss: 0.0403\n",
      "Epoch [2/20], Step [15/16], Loss: 0.0368\n",
      "Epoch [3/20], Step [5/16], Loss: 0.0383\n",
      "Epoch [3/20], Step [10/16], Loss: 0.0376\n",
      "Epoch [3/20], Step [15/16], Loss: 0.0355\n",
      "Epoch [4/20], Step [5/16], Loss: 0.0340\n",
      "Epoch [4/20], Step [10/16], Loss: 0.0364\n",
      "Epoch [4/20], Step [15/16], Loss: 0.0366\n",
      "Epoch [5/20], Step [5/16], Loss: 0.0327\n",
      "Epoch [5/20], Step [10/16], Loss: 0.0370\n",
      "Epoch [5/20], Step [15/16], Loss: 0.0353\n",
      "Epoch [6/20], Step [5/16], Loss: 0.0349\n",
      "Epoch [6/20], Step [10/16], Loss: 0.0347\n",
      "Epoch [6/20], Step [15/16], Loss: 0.0330\n",
      "Epoch [7/20], Step [5/16], Loss: 0.0319\n",
      "Epoch [7/20], Step [10/16], Loss: 0.0347\n",
      "Epoch [7/20], Step [15/16], Loss: 0.0321\n",
      "Epoch [8/20], Step [5/16], Loss: 0.0347\n",
      "Epoch [8/20], Step [10/16], Loss: 0.0308\n",
      "Epoch [8/20], Step [15/16], Loss: 0.0332\n",
      "Epoch [9/20], Step [5/16], Loss: 0.0295\n",
      "Epoch [9/20], Step [10/16], Loss: 0.0320\n",
      "Epoch [9/20], Step [15/16], Loss: 0.0281\n",
      "Epoch [10/20], Step [5/16], Loss: 0.0292\n",
      "Epoch [10/20], Step [10/16], Loss: 0.0319\n",
      "Epoch [10/20], Step [15/16], Loss: 0.0319\n",
      "Epoch [11/20], Step [5/16], Loss: 0.0270\n",
      "Epoch [11/20], Step [10/16], Loss: 0.0314\n",
      "Epoch [11/20], Step [15/16], Loss: 0.0354\n",
      "Epoch [12/20], Step [5/16], Loss: 0.0319\n",
      "Epoch [12/20], Step [10/16], Loss: 0.0302\n",
      "Epoch [12/20], Step [15/16], Loss: 0.0268\n",
      "Epoch [13/20], Step [5/16], Loss: 0.0311\n",
      "Epoch [13/20], Step [10/16], Loss: 0.0303\n",
      "Epoch [13/20], Step [15/16], Loss: 0.0324\n",
      "Epoch [14/20], Step [5/16], Loss: 0.0274\n",
      "Epoch [14/20], Step [10/16], Loss: 0.0284\n",
      "Epoch [14/20], Step [15/16], Loss: 0.0298\n",
      "Epoch [15/20], Step [5/16], Loss: 0.0281\n",
      "Epoch [15/20], Step [10/16], Loss: 0.0307\n",
      "Epoch [15/20], Step [15/16], Loss: 0.0261\n",
      "Epoch [16/20], Step [5/16], Loss: 0.0317\n",
      "Epoch [16/20], Step [10/16], Loss: 0.0295\n",
      "Epoch [16/20], Step [15/16], Loss: 0.0294\n",
      "Epoch [17/20], Step [5/16], Loss: 0.0310\n",
      "Epoch [17/20], Step [10/16], Loss: 0.0271\n",
      "Epoch [17/20], Step [15/16], Loss: 0.0267\n",
      "Epoch [18/20], Step [5/16], Loss: 0.0285\n",
      "Epoch [18/20], Step [10/16], Loss: 0.0239\n",
      "Epoch [18/20], Step [15/16], Loss: 0.0329\n",
      "Epoch [19/20], Step [5/16], Loss: 0.0273\n",
      "Epoch [19/20], Step [10/16], Loss: 0.0329\n",
      "Epoch [19/20], Step [15/16], Loss: 0.0321\n",
      "Epoch [20/20], Step [5/16], Loss: 0.0286\n",
      "Epoch [20/20], Step [10/16], Loss: 0.0270\n",
      "Epoch [20/20], Step [15/16], Loss: 0.0324\n"
     ]
    }
   ],
   "source": [
    "rae_train_criterion = nn.MSELoss()\n",
    "rae_model = train_model(rae_train_loader, rae_model, rae_train_criterion, num_epochs, learning_rate, device)"
   ]
  },
  {
   "cell_type": "markdown",
   "metadata": {},
   "source": [
    "### Step 4. 적합된 모델을 기반으로 train/test 데이터의 anomaly score 도출 (Inference)"
   ]
  },
  {
   "cell_type": "code",
   "execution_count": 35,
   "metadata": {
    "scrolled": true
   },
   "outputs": [],
   "source": [
    "# train 데이터에 대한 최종 결과 도출\n",
    "rae_infer_criterion = nn.L1Loss(reduction='none')\n",
    "rae_train_loss = inference_model(rae_train_loader, rae_model, rae_infer_criterion, device)\n",
    "rae_test_loss = inference_model(rae_test_loader, rae_model, rae_infer_criterion, device)"
   ]
  },
  {
   "cell_type": "code",
   "execution_count": 36,
   "metadata": {},
   "outputs": [
    {
     "name": "stderr",
     "output_type": "stream",
     "text": [
      "/Users/heejeongchoi/miniconda3/envs/dsba/lib/python3.6/site-packages/seaborn/distributions.py:2551: FutureWarning: `distplot` is a deprecated function and will be removed in a future version. Please adapt your code to use either `displot` (a figure-level function with similar flexibility) or `histplot` (an axes-level function for histograms).\n",
      "  warnings.warn(msg, FutureWarning)\n",
      "/Users/heejeongchoi/miniconda3/envs/dsba/lib/python3.6/site-packages/seaborn/distributions.py:2551: FutureWarning: `distplot` is a deprecated function and will be removed in a future version. Please adapt your code to use either `displot` (a figure-level function with similar flexibility) or `histplot` (an axes-level function for histograms).\n",
      "  warnings.warn(msg, FutureWarning)\n"
     ]
    },
    {
     "data": {
      "text/plain": [
       "Text(0.5, 1.0, 'Test Data')"
      ]
     },
     "execution_count": 36,
     "metadata": {},
     "output_type": "execute_result"
    },
    {
     "data": {
      "image/png": "[encoded data removed]",
      "text/plain": [
       "<Figure size 576x576 with 2 Axes>"
      ]
     },
     "metadata": {
      "needs_background": "light"
     },
     "output_type": "display_data"
    }
   ],
   "source": [
    "# train/test 데이터의 anomaly score 분포 시각화\n",
    "fig, (ax1, ax2) = plt.subplots(nrows=2, ncols=1, figsize = (8, 8))\n",
    "\n",
    "sns.distplot(rae_train_loss, bins=100, kde=True, color='blue', ax=ax1)\n",
    "sns.distplot(rae_test_loss, bins=100, kde=True, color='red', ax=ax2)\n",
    "ax1.set_title(\"Train Data\")\n",
    "ax2.set_title(\"Test Data\")"
   ]
  },
  {
   "cell_type": "markdown",
   "metadata": {},
   "source": [
    "### Step 5. Threshold 탐색"
   ]
  },
  {
   "cell_type": "code",
   "execution_count": 37,
   "metadata": {
    "scrolled": false
   },
   "outputs": [
    {
     "ename": "ValueError",
     "evalue": "The truth value of an array with more than one element is ambiguous. Use a.any() or a.all()",
     "output_type": "error",
     "traceback": [
      "\u001b[0;31m---------------------------------------------------------------------------\u001b[0m",
      "\u001b[0;31mValueError\u001b[0m                                Traceback (most recent call last)",
      "\u001b[0;32m<ipython-input-37-25ef96ee5558>\u001b[0m in \u001b[0;36m<module>\u001b[0;34m\u001b[0m\n\u001b[1;32m      1\u001b[0m \u001b[0;31m# best threshold 탐색\u001b[0m\u001b[0;34m\u001b[0m\u001b[0;34m\u001b[0m\u001b[0;34m\u001b[0m\u001b[0m\n\u001b[0;32m----> 2\u001b[0;31m \u001b[0mrae_best_threshold\u001b[0m \u001b[0;34m=\u001b[0m \u001b[0msearch_best_threshold\u001b[0m\u001b[0;34m(\u001b[0m\u001b[0mrae_test_loss\u001b[0m\u001b[0;34m,\u001b[0m \u001b[0my_test\u001b[0m\u001b[0;34m[\u001b[0m\u001b[0mseq_len\u001b[0m\u001b[0;34m:\u001b[0m\u001b[0;34m]\u001b[0m\u001b[0;34m,\u001b[0m \u001b[0mnum_step\u001b[0m\u001b[0;34m=\u001b[0m\u001b[0;36m1000\u001b[0m\u001b[0;34m)\u001b[0m\u001b[0;34m\u001b[0m\u001b[0;34m\u001b[0m\u001b[0m\n\u001b[0m",
      "\u001b[0;32m<ipython-input-21-39dd391d717d>\u001b[0m in \u001b[0;36msearch_best_threshold\u001b[0;34m(score, y_true, num_step)\u001b[0m\n\u001b[1;32m      4\u001b[0m     \u001b[0mbest_f1\u001b[0m \u001b[0;34m=\u001b[0m \u001b[0;36m0.5\u001b[0m\u001b[0;34m\u001b[0m\u001b[0;34m\u001b[0m\u001b[0m\n\u001b[1;32m      5\u001b[0m     \u001b[0mbest_threshold\u001b[0m \u001b[0;34m=\u001b[0m \u001b[0;32mNone\u001b[0m\u001b[0;34m\u001b[0m\u001b[0;34m\u001b[0m\u001b[0m\n\u001b[0;32m----> 6\u001b[0;31m     \u001b[0;32mfor\u001b[0m \u001b[0mthreshold\u001b[0m \u001b[0;32min\u001b[0m \u001b[0mnp\u001b[0m\u001b[0;34m.\u001b[0m\u001b[0mlinspace\u001b[0m\u001b[0;34m(\u001b[0m\u001b[0mmin\u001b[0m\u001b[0;34m(\u001b[0m\u001b[0mscore\u001b[0m\u001b[0;34m)\u001b[0m\u001b[0;34m,\u001b[0m \u001b[0mmax\u001b[0m\u001b[0;34m(\u001b[0m\u001b[0mscore\u001b[0m\u001b[0;34m)\u001b[0m\u001b[0;34m,\u001b[0m \u001b[0mnum_step\u001b[0m\u001b[0;34m)\u001b[0m\u001b[0;34m:\u001b[0m\u001b[0;34m\u001b[0m\u001b[0;34m\u001b[0m\u001b[0m\n\u001b[0m\u001b[1;32m      7\u001b[0m         \u001b[0my_pred\u001b[0m \u001b[0;34m=\u001b[0m \u001b[0mthreshold\u001b[0m \u001b[0;34m<\u001b[0m \u001b[0mscore\u001b[0m\u001b[0;34m\u001b[0m\u001b[0;34m\u001b[0m\u001b[0m\n\u001b[1;32m      8\u001b[0m \u001b[0;34m\u001b[0m\u001b[0m\n",
      "\u001b[0;31mValueError\u001b[0m: The truth value of an array with more than one element is ambiguous. Use a.any() or a.all()"
     ]
    }
   ],
   "source": [
    "# best threshold 탐색\n",
    "rae_best_threshold = search_best_threshold(rae_test_loss, y_test[seq_len:], num_step=1000)"
   ]
  },
  {
   "cell_type": "markdown",
   "metadata": {},
   "source": [
    "### Step 6. Best threshold를 기반으로 이상치 탐지 모형 평가"
   ]
  },
  {
   "cell_type": "code",
   "execution_count": null,
   "metadata": {},
   "outputs": [],
   "source": [
    "train_dates = merged_data[merged_data['data_type'] == 'train'].index[seq_len:]\n",
    "test_dates = merged_data[merged_data['data_type'] == 'test'].index[seq_len:]"
   ]
  },
  {
   "cell_type": "code",
   "execution_count": null,
   "metadata": {
    "scrolled": true
   },
   "outputs": [],
   "source": [
    "rae_scores = pd.DataFrame(index=list(train_dates) + list(test_dates))\n",
    "rae_scores['score'] = list(np.hstack([rae_train_loss, rae_test_loss]))\n",
    "rae_scores['anomaly'] = rae_best_threshold < rae_scores['score']\n",
    "rae_scores.head()"
   ]
  },
  {
   "cell_type": "code",
   "execution_count": null,
   "metadata": {},
   "outputs": [],
   "source": [
    "# 전체 기간의 데이터 분포 확인\n",
    "draw_plot(rae_scores, rae_best_threshold)"
   ]
  },
  {
   "cell_type": "code",
   "execution_count": null,
   "metadata": {
    "scrolled": true
   },
   "outputs": [],
   "source": [
    "# F1 Score: 0.9816\n",
    "frr, far, f1 = calculate_metric(y_test[seq_len:], rae_scores['anomaly'][test_dates[0]:])\n",
    "\n",
    "print(\"**  FRR: {}  |  FAR: {}  |  F1 Score: {}\".format(round(frr, 4), round(far, 4), round(f1, 4)))"
   ]
  },
  {
   "cell_type": "markdown",
   "metadata": {},
   "source": [
    "---"
   ]
  }
 ],
 "metadata": {
  "kernelspec": {
   "display_name": "Python3 (dsba)",
   "language": "python",
   "name": "dsba"
  },
  "language_info": {
   "codemirror_mode": {
    "name": "ipython",
    "version": 3
   },
   "file_extension": ".py",
   "mimetype": "text/x-python",
   "name": "python",
   "nbconvert_exporter": "python",
   "pygments_lexer": "ipython3",
   "version": "3.6.12"
  }
 },
 "nbformat": 4,
 "nbformat_minor": 4
}
