{
 "cells": [
  {
   "cell_type": "markdown",
   "metadata": {},
   "source": [
    "# [ LG전자_DX_Intensive_Course  ] <br><br> 딥러닝 기반 시계열 분석 3: CNN 주요 모델 2 & CAM/Grad CAM"
   ]
  },
  {
   "cell_type": "markdown",
   "metadata": {},
   "source": [
    "# <br>__1. Data: MNIST Dataset__"
   ]
  },
  {
   "cell_type": "markdown",
   "metadata": {},
   "source": [
    "- 데이터 description <br>\n",
    "    - MNIST는 사람이 0-9의 숫자를 작성하여 구축한 손글씨 이미지 데이터셋이다. 해당 데이터셋은 총 7만개의 손글씨 흑백 이미지와 해당 이미지에 매칭되는 실제 숫자 값으로 구성되어 있으며, 이 중 6만개는 train 데이터이고 1만개는 test 데이터이다. MNIST 데이터셋을 활용한 이미지 분류 task는 손글씨 이미지를 input으로 받아 이를 0-9 중 하나의 숫자 값으로 분류하는 것을 목표로 한다. <br><br>\n",
    "- 변수 설명\n",
    "    - Image: 0-255 사이의 픽셀 값으로 표현되는 28x28 크기의 흑백 이미지 -> 차원: [28, 28, 1]\n",
    "    - Class: 0-9에 속하는 실제 숫자 값 <br><br>"
   ]
  },
  {
   "cell_type": "markdown",
   "metadata": {},
   "source": [
    "![Imgur](https://i.imgur.com/kF3k1Fq.jpg)"
   ]
  },
  {
   "cell_type": "code",
   "execution_count": null,
   "metadata": {},
   "outputs": [],
   "source": []
  }
 ],
 "metadata": {
  "kernelspec": {
   "display_name": "Python3 (dsba)",
   "language": "python",
   "name": "dsba"
  },
  "language_info": {
   "codemirror_mode": {
    "name": "ipython",
    "version": 3
   },
   "file_extension": ".py",
   "mimetype": "text/x-python",
   "name": "python",
   "nbconvert_exporter": "python",
   "pygments_lexer": "ipython3",
   "version": "3.6.12"
  }
 },
 "nbformat": 4,
 "nbformat_minor": 4
}
