{
 "cells": [
  {
   "cell_type": "markdown",
   "metadata": {},
   "source": [
    "# __[ LG 이노텍 MBB ] Part 4: 이상치 탐지__"
   ]
  },
  {
   "cell_type": "markdown",
   "metadata": {},
   "source": [
    "# __<br> 1. 모델 기반 이상치 탐지 기법__"
   ]
  },
  {
   "cell_type": "markdown",
   "metadata": {},
   "source": [
    "# __1-1. Auto-Encoder__"
   ]
  },
  {
   "cell_type": "markdown",
   "metadata": {},
   "source": [
    "### Auto-Encoder (Auto-Associative Neural Network)\n",
    ">입력과 출력이 동일한 인공신경망 구조 <br>\n",
    ">정상 데이터에 대한 학습이 충분히 되어 있을 경우 정상 데이터는 자기 자신을 잘 복원할 수 있지만, 이상치 제이터는 학습 기회가 적어 상대적으로 잘 복원하지 못할 것을 가정"
   ]
  },
  {
   "cell_type": "markdown",
   "metadata": {},
   "source": [
    "![Imgur](https://i.imgur.com/V4FD0Vh.jpg)"
   ]
  },
  {
   "cell_type": "code",
   "execution_count": 1,
   "metadata": {},
   "outputs": [],
   "source": [
    "import torch\n",
    "import torch.nn as nn\n",
    "import torchvision\n",
    "from torch.utils.data import Dataset\n",
    "from torch.utils.data import DataLoader\n",
    "import torchvision.transforms as transforms\n",
    "\n",
    "import numpy as np\n",
    "import matplotlib.pyplot as plt\n",
    "from sklearn.metrics import f1_score\n",
    "from sklearn.model_selection import train_test_split"
   ]
  },
  {
   "cell_type": "markdown",
   "metadata": {},
   "source": [
    "### Step1. 데이터 불러오기"
   ]
  },
  {
   "cell_type": "code",
   "execution_count": 2,
   "metadata": {},
   "outputs": [],
   "source": [
    "input_size = 784\n",
    "hidden_size = 32\n",
    "num_epochs = 20\n",
    "batch_size = 32\n",
    "learning_rate = 0.001"
   ]
  },
  {
   "cell_type": "code",
   "execution_count": 3,
   "metadata": {
    "scrolled": true
   },
   "outputs": [],
   "source": [
    "# # MNIST dataset \n",
    "# train_dataset = torchvision.datasets.MNIST(root='../dataset', \n",
    "#                                            train=True, \n",
    "#                                            transform=transforms.ToTensor(),  \n",
    "#                                            download=True)\n",
    "\n",
    "# test_dataset = torchvision.datasets.MNIST(root='../dataset', \n",
    "#                                           train=False, \n",
    "#                                           transform=transforms.ToTensor())"
   ]
  },
  {
   "cell_type": "code",
   "execution_count": 4,
   "metadata": {
    "scrolled": true
   },
   "outputs": [],
   "source": [
    "data = np.load('../input/mnist-numpy/mnist.npz')\n",
    "x_train, y_train = data['x_train'], data['y_train']\n",
    "x_test, y_test = data['x_test'], data['y_test']"
   ]
  },
  {
   "cell_type": "code",
   "execution_count": 5,
   "metadata": {},
   "outputs": [],
   "source": [
    "def get_indices(y, class_list):\n",
    "    indices =  []\n",
    "    for i in range(len(y)):\n",
    "        if y[i] in class_list:\n",
    "            indices.append(i)\n",
    "    return indices"
   ]
  },
  {
   "cell_type": "markdown",
   "metadata": {},
   "source": [
    "**추가 부분**"
   ]
  },
  {
   "cell_type": "code",
   "execution_count": 6,
   "metadata": {},
   "outputs": [],
   "source": [
    "# train data: Class = 2인 데이터셋\n",
    "train_idx = get_indices(y_train, class_list=[2])\n",
    "x_train = [x_train[i] for i in train_idx]\n",
    "y_train = [y_train[i] for i in train_idx]"
   ]
  },
  {
   "cell_type": "code",
   "execution_count": 7,
   "metadata": {},
   "outputs": [],
   "source": [
    "# test data: Class = 2 (normal) or 5(abnormal)인 데이터셋\n",
    "test_idx = get_indices(y_test, class_list=[2, 5])\n",
    "x_test = [x_test[i] for i in test_idx]\n",
    "y_test = [y_test[i] for i in test_idx]"
   ]
  },
  {
   "cell_type": "code",
   "execution_count": 8,
   "metadata": {},
   "outputs": [],
   "source": [
    "# validation & test data 분할: test data -> val:test = 1:1\n",
    "x_val, x_test, y_val, y_test = train_test_split(x_test, y_test, test_size=0.5, random_state=42, stratify=y_test)"
   ]
  },
  {
   "cell_type": "code",
   "execution_count": 9,
   "metadata": {},
   "outputs": [],
   "source": [
    "# Dataset form for pytorch \n",
    "class MnistDataset(Dataset): \n",
    "    def __init__(self, x, y, transform=None):\n",
    "        self.x = x\n",
    "        self.y = y\n",
    "        self.transform = transform\n",
    "\n",
    "    # 총 데이터의 개수를 리턴\n",
    "    def __len__(self): \n",
    "        return len(self.x)\n",
    "\n",
    "    # 인덱스를 입력받아 그에 맵핑되는 입출력 데이터를 파이토치의 Tensor 형태로 리턴\n",
    "    def __getitem__(self, idx):\n",
    "        x = self.x[idx]\n",
    "        y = self.y[idx]\n",
    "        \n",
    "        if self.transform:\n",
    "            x = self.transform(x)\n",
    "\n",
    "        return x, y"
   ]
  },
  {
   "cell_type": "code",
   "execution_count": 10,
   "metadata": {
    "scrolled": true
   },
   "outputs": [],
   "source": [
    "transform = transforms.Compose([transforms.ToTensor(),\n",
    "                                transforms.Normalize((0.5), (0.5))])"
   ]
  },
  {
   "cell_type": "code",
   "execution_count": 11,
   "metadata": {},
   "outputs": [],
   "source": [
    "# train data: Class = 2인 데이터셋\n",
    "train_dataset = MnistDataset(x_train, y_train, transform)\n",
    "train_loader = torch.utils.data.DataLoader(dataset=train_dataset, \n",
    "                                           batch_size=batch_size,\n",
    "                                           shuffle=True)"
   ]
  },
  {
   "cell_type": "code",
   "execution_count": 12,
   "metadata": {},
   "outputs": [],
   "source": [
    "# val data: Class = 2 or 5인 데이터셋\n",
    "val_dataset = MnistDataset(x_val, y_val, transform)\n",
    "val_loader = torch.utils.data.DataLoader(dataset=val_dataset, \n",
    "                                         batch_size=1,\n",
    "                                         shuffle=False)"
   ]
  },
  {
   "cell_type": "code",
   "execution_count": 13,
   "metadata": {},
   "outputs": [],
   "source": [
    "# test data: Class = 2 or 5인 데이터셋\n",
    "test_dataset = MnistDataset(x_test, y_test, transform)\n",
    "test_loader = torch.utils.data.DataLoader(dataset=test_dataset,\n",
    "                                          batch_size=1,\n",
    "                                          shuffle=False)"
   ]
  },
  {
   "cell_type": "markdown",
   "metadata": {},
   "source": [
    "### Step2. 모델 구축"
   ]
  },
  {
   "cell_type": "code",
   "execution_count": 14,
   "metadata": {},
   "outputs": [],
   "source": [
    "class Autoencoder(nn.Module):\n",
    "    def __init__(self, input_size, hidden_size):\n",
    "        super(Autoencoder,self).__init__()\n",
    "        self.encoder = nn.Linear(input_size, hidden_size)\n",
    "        self.decoder = nn.Linear(hidden_size, input_size)   \n",
    "                \n",
    "    def forward(self,x):\n",
    "        encoded = self.encoder(x)\n",
    "        out = self.decoder(encoded)\n",
    "        return out"
   ]
  },
  {
   "cell_type": "code",
   "execution_count": 15,
   "metadata": {},
   "outputs": [],
   "source": [
    "model = Autoencoder(input_size, hidden_size)"
   ]
  },
  {
   "cell_type": "markdown",
   "metadata": {},
   "source": [
    "### Step3. 모델 학습"
   ]
  },
  {
   "cell_type": "code",
   "execution_count": 16,
   "metadata": {},
   "outputs": [],
   "source": [
    "criterion = nn.MSELoss()\n",
    "optimizer = torch.optim.Adam(model.parameters(), lr=learning_rate)"
   ]
  },
  {
   "cell_type": "code",
   "execution_count": 17,
   "metadata": {
    "scrolled": true
   },
   "outputs": [
    {
     "name": "stdout",
     "output_type": "stream",
     "text": [
      "Epoch [1/20], Step [50/187], Loss: 0.2640\n",
      "Epoch [1/20], Step [100/187], Loss: 0.2217\n",
      "Epoch [1/20], Step [150/187], Loss: 0.2048\n",
      "Epoch [2/20], Step [50/187], Loss: 0.1641\n",
      "Epoch [2/20], Step [100/187], Loss: 0.1582\n",
      "Epoch [2/20], Step [150/187], Loss: 0.1414\n",
      "Epoch [3/20], Step [50/187], Loss: 0.1287\n",
      "Epoch [3/20], Step [100/187], Loss: 0.1263\n",
      "Epoch [3/20], Step [150/187], Loss: 0.1243\n",
      "Epoch [4/20], Step [50/187], Loss: 0.1109\n",
      "Epoch [4/20], Step [100/187], Loss: 0.1076\n",
      "Epoch [4/20], Step [150/187], Loss: 0.0995\n",
      "Epoch [5/20], Step [50/187], Loss: 0.1049\n",
      "Epoch [5/20], Step [100/187], Loss: 0.1008\n",
      "Epoch [5/20], Step [150/187], Loss: 0.0916\n",
      "Epoch [6/20], Step [50/187], Loss: 0.0894\n",
      "Epoch [6/20], Step [100/187], Loss: 0.0975\n",
      "Epoch [6/20], Step [150/187], Loss: 0.0889\n",
      "Epoch [7/20], Step [50/187], Loss: 0.0938\n",
      "Epoch [7/20], Step [100/187], Loss: 0.0877\n",
      "Epoch [7/20], Step [150/187], Loss: 0.0810\n",
      "Epoch [8/20], Step [50/187], Loss: 0.0838\n",
      "Epoch [8/20], Step [100/187], Loss: 0.0735\n",
      "Epoch [8/20], Step [150/187], Loss: 0.0736\n",
      "Epoch [9/20], Step [50/187], Loss: 0.0779\n",
      "Epoch [9/20], Step [100/187], Loss: 0.0678\n",
      "Epoch [9/20], Step [150/187], Loss: 0.0713\n",
      "Epoch [10/20], Step [50/187], Loss: 0.0658\n",
      "Epoch [10/20], Step [100/187], Loss: 0.0798\n",
      "Epoch [10/20], Step [150/187], Loss: 0.0667\n",
      "Epoch [11/20], Step [50/187], Loss: 0.0702\n",
      "Epoch [11/20], Step [100/187], Loss: 0.0646\n",
      "Epoch [11/20], Step [150/187], Loss: 0.0782\n",
      "Epoch [12/20], Step [50/187], Loss: 0.0678\n",
      "Epoch [12/20], Step [100/187], Loss: 0.0657\n",
      "Epoch [12/20], Step [150/187], Loss: 0.0695\n",
      "Epoch [13/20], Step [50/187], Loss: 0.0682\n",
      "Epoch [13/20], Step [100/187], Loss: 0.0726\n",
      "Epoch [13/20], Step [150/187], Loss: 0.0621\n",
      "Epoch [14/20], Step [50/187], Loss: 0.0703\n",
      "Epoch [14/20], Step [100/187], Loss: 0.0707\n",
      "Epoch [14/20], Step [150/187], Loss: 0.0649\n",
      "Epoch [15/20], Step [50/187], Loss: 0.0659\n",
      "Epoch [15/20], Step [100/187], Loss: 0.0669\n",
      "Epoch [15/20], Step [150/187], Loss: 0.0642\n",
      "Epoch [16/20], Step [50/187], Loss: 0.0664\n",
      "Epoch [16/20], Step [100/187], Loss: 0.0661\n",
      "Epoch [16/20], Step [150/187], Loss: 0.0701\n",
      "Epoch [17/20], Step [50/187], Loss: 0.0668\n",
      "Epoch [17/20], Step [100/187], Loss: 0.0672\n",
      "Epoch [17/20], Step [150/187], Loss: 0.0615\n",
      "Epoch [18/20], Step [50/187], Loss: 0.0684\n",
      "Epoch [18/20], Step [100/187], Loss: 0.0675\n",
      "Epoch [18/20], Step [150/187], Loss: 0.0687\n",
      "Epoch [19/20], Step [50/187], Loss: 0.0618\n",
      "Epoch [19/20], Step [100/187], Loss: 0.0647\n",
      "Epoch [19/20], Step [150/187], Loss: 0.0704\n",
      "Epoch [20/20], Step [50/187], Loss: 0.0626\n",
      "Epoch [20/20], Step [100/187], Loss: 0.0654\n",
      "Epoch [20/20], Step [150/187], Loss: 0.0720\n"
     ]
    }
   ],
   "source": [
    "total_step = len(train_loader)\n",
    "for epoch in range(num_epochs):\n",
    "    for i, (images, _) in enumerate(train_loader):\n",
    "        # Move tensors to the configured device\n",
    "        images = images.reshape(-1, input_size)\n",
    "        \n",
    "        # Forward pass\n",
    "        outputs = model(images)\n",
    "        loss = criterion(outputs, images)\n",
    "        \n",
    "        # Backward and optimize\n",
    "        optimizer.zero_grad()\n",
    "        loss.backward()\n",
    "        optimizer.step()\n",
    "        \n",
    "        if (i+1) % 50 == 0:\n",
    "            print ('Epoch [{}/{}], Step [{}/{}], Loss: {:.4f}' \n",
    "                   .format(epoch+1, num_epochs, i+1, total_step, loss.item()))"
   ]
  },
  {
   "cell_type": "code",
   "execution_count": 18,
   "metadata": {
    "scrolled": true
   },
   "outputs": [
    {
     "data": {
      "image/png": "[encoded data removed]",
      "text/plain": [
       "<Figure size 432x288 with 2 Axes>"
      ]
     },
     "metadata": {
      "needs_background": "light"
     },
     "output_type": "display_data"
    },
    {
     "data": {
      "image/png": "[encoded data removed]",
      "text/plain": [
       "<Figure size 432x288 with 2 Axes>"
      ]
     },
     "metadata": {
      "needs_background": "light"
     },
     "output_type": "display_data"
    },
    {
     "data": {
      "image/png": "[encoded data removed]",
      "text/plain": [
       "<Figure size 432x288 with 2 Axes>"
      ]
     },
     "metadata": {
      "needs_background": "light"
     },
     "output_type": "display_data"
    }
   ],
   "source": [
    "for i in range(3):\n",
    "    plt.subplot(1, 2, 1)\n",
    "    plt.imshow(images[i].reshape(28, 28).numpy(),cmap='gray')\n",
    "    \n",
    "    plt.subplot(1, 2, 2)\n",
    "    plt.imshow(outputs[i].reshape(28, 28).data.numpy(),cmap='gray')\n",
    "    plt.show()"
   ]
  },
  {
   "cell_type": "markdown",
   "metadata": {},
   "source": [
    "### Step4. Validation 데이터 기반 이상치 탐지 threshold 추정"
   ]
  },
  {
   "cell_type": "code",
   "execution_count": 19,
   "metadata": {},
   "outputs": [
    {
     "name": "stderr",
     "output_type": "stream",
     "text": [
      "/opt/anaconda3/lib/python3.8/site-packages/torch/nn/modules/loss.py:445: UserWarning: Using a target size (torch.Size([1, 784])) that is different to the input size (torch.Size([6, 784])). This will likely lead to incorrect results due to broadcasting. Please ensure they have the same size.\n",
      "  return F.mse_loss(input, target, reduction=self.reduction)\n"
     ]
    }
   ],
   "source": [
    "with torch.no_grad():\n",
    "    loss_val = []\n",
    "    for i, (image, label) in enumerate(val_loader):\n",
    "        image = image.reshape(-1, input_size)\n",
    "        output = model.forward(image)\n",
    "        \n",
    "        loss = criterion(outputs, image)\n",
    "        \n",
    "        loss_val.append(loss.data.item())"
   ]
  },
  {
   "cell_type": "code",
   "execution_count": 20,
   "metadata": {},
   "outputs": [],
   "source": [
    "# 교차검증을 통해 가장 좋은 threshold (임계치) 탐색\n",
    "def select_threshold(probs, y_true, size):\n",
    "    # threshold 탐색 후보 설정\n",
    "    step_size = (max(probs) - min(probs)) / size\n",
    "    candidates = np.arange(min(probs), max(probs), step_size)\n",
    "    \n",
    "    best_f1 = 0\n",
    "    for thres in candidates:\n",
    "        y_pred = (probs > thres)\n",
    "        f1 = f1_score(y_true, y_pred)\n",
    "        if f1 > best_f1:\n",
    "            best_f1 = f1\n",
    "            best_thres = thres\n",
    "            print('Update threshold: threshold = ', best_thres)\n",
    "    \n",
    "    return best_f1, best_thres"
   ]
  },
  {
   "cell_type": "code",
   "execution_count": 21,
   "metadata": {},
   "outputs": [],
   "source": [
    "y_val = [0 if y == 2 else 1 for y in y_val]"
   ]
  },
  {
   "cell_type": "code",
   "execution_count": 22,
   "metadata": {
    "scrolled": true
   },
   "outputs": [
    {
     "name": "stdout",
     "output_type": "stream",
     "text": [
      "Update threshold: threshold =  0.27448347210884094\n",
      "Update threshold: threshold =  0.2795856574177742\n",
      "Update threshold: threshold =  0.2897900280356407\n",
      "Update threshold: threshold =  0.29489221334457394\n",
      "Update threshold: threshold =  0.2999943986535072\n",
      "Update threshold: threshold =  0.30509658396244044\n",
      "Update threshold: threshold =  0.3101987692713737\n",
      "Update threshold: threshold =  0.31530095458030694\n",
      "Update threshold: threshold =  0.3204031398892402\n",
      "Update threshold: threshold =  0.32550532519817343\n",
      "Update threshold: threshold =  0.3306075105071067\n",
      "Update threshold: threshold =  0.33570969581603993\n",
      "Update threshold: threshold =  0.3408118811249732\n",
      "Update threshold: threshold =  0.34591406643390643\n",
      "Update threshold: threshold =  0.3510162517428397\n",
      "Update threshold: threshold =  0.35611843705177293\n",
      "Update threshold: threshold =  0.3612206223607062\n",
      "Update threshold: threshold =  0.3663228076696394\n",
      "Update threshold: threshold =  0.3714249929785727\n",
      "Update threshold: threshold =  0.3765271782875059\n",
      "Update threshold: threshold =  0.3816293635964392\n",
      "Update threshold: threshold =  0.3867315489053724\n",
      "Update threshold: threshold =  0.3918337342143057\n",
      "Update threshold: threshold =  0.3969359195232389\n",
      "Update threshold: threshold =  0.40203810483217217\n",
      "Update threshold: threshold =  0.4071402901411054\n",
      "Update threshold: threshold =  0.41224247545003867\n",
      "Update threshold: threshold =  0.4173446607589719\n",
      "Update threshold: threshold =  0.42244684606790517\n",
      "Update threshold: threshold =  0.43265121668577167\n",
      "Update threshold: threshold =  0.4377534019947049\n",
      "Update threshold: threshold =  0.44285558730363817\n",
      "Update threshold: threshold =  0.4479577726125714\n",
      "\n",
      "Best f1 score = 0.7632058287795994 \n",
      "Best threshold = 0.4479577726125714\n"
     ]
    }
   ],
   "source": [
    "ae_best_f1, ae_best_thres = select_threshold(loss_val, y_val, size=100)\n",
    "print('\\nBest f1 score =', ae_best_f1, '\\nBest threshold =', ae_best_thres)"
   ]
  },
  {
   "cell_type": "markdown",
   "metadata": {},
   "source": [
    "### Step5. Test 데이터 기반 이상치 탐지 모형 검증"
   ]
  },
  {
   "cell_type": "code",
   "execution_count": 23,
   "metadata": {},
   "outputs": [],
   "source": [
    "with torch.no_grad():\n",
    "    loss_test = []\n",
    "    for i, (image, label) in enumerate(test_loader):\n",
    "        image = image.reshape(-1, input_size)\n",
    "        output = model.forward(image)\n",
    "        \n",
    "        loss = criterion(outputs, image)\n",
    "        \n",
    "        loss_test.append(loss.data.item())"
   ]
  },
  {
   "cell_type": "code",
   "execution_count": 24,
   "metadata": {},
   "outputs": [],
   "source": [
    "ae_y_pred = (loss_test > ae_best_thres)"
   ]
  },
  {
   "cell_type": "code",
   "execution_count": 25,
   "metadata": {
    "scrolled": true
   },
   "outputs": [],
   "source": [
    "y_test = np.array([0 if y == 2 else 1 for y in y_test])"
   ]
  },
  {
   "cell_type": "code",
   "execution_count": 26,
   "metadata": {},
   "outputs": [
    {
     "data": {
      "text/plain": [
       "0.7813953488372092"
      ]
     },
     "execution_count": 26,
     "metadata": {},
     "output_type": "execute_result"
    }
   ],
   "source": [
    "# 테스트 데이터에 대한 성능 평가 (=0.7813)\n",
    "ae_f1 = f1_score(y_true=y_test, y_pred=ae_y_pred)\n",
    "ae_f1"
   ]
  },
  {
   "cell_type": "code",
   "execution_count": 27,
   "metadata": {},
   "outputs": [],
   "source": [
    "# 정상/비정상 데이터 별 accuracy 평가\n",
    "ae_normal_pred = ae_y_pred[y_test == 0]\n",
    "ae_abnormal_pred = ae_y_pred[y_test == 1]"
   ]
  },
  {
   "cell_type": "code",
   "execution_count": 28,
   "metadata": {},
   "outputs": [
    {
     "name": "stdout",
     "output_type": "stream",
     "text": [
      "Accuracy in Normal Cases: 0.5949612403100775\n",
      "Accuracy in Abnormal Cases: 0.9417040358744395\n"
     ]
    }
   ],
   "source": [
    "print(\"Accuracy in Normal Cases:\", list(ae_normal_pred).count(0) / len(ae_normal_pred))\n",
    "print(\"Accuracy in Abnormal Cases:\", list(ae_abnormal_pred).count(1)/len(ae_abnormal_pred))"
   ]
  },
  {
   "cell_type": "markdown",
   "metadata": {},
   "source": [
    "---"
   ]
  },
  {
   "cell_type": "markdown",
   "metadata": {},
   "source": [
    "# __<br>1-2. Isolation Forest__"
   ]
  },
  {
   "cell_type": "markdown",
   "metadata": {},
   "source": [
    "### Isolation Forest\n",
    ">하나의 객체를 고립시키는 의사결정나무를 생성하여 이상치를 탐지하고자 함 <br>\n",
    ">정상 데이터는 고립시키는데 많은 분기가 필요하지만, 이상치 데이터라면 상대적으로 적은 분기만으로 고립이 가능함"
   ]
  },
  {
   "cell_type": "markdown",
   "metadata": {},
   "source": [
    "### Step1. 데이터 불러오기"
   ]
  },
  {
   "cell_type": "code",
   "execution_count": 29,
   "metadata": {},
   "outputs": [],
   "source": [
    "import pandas as pd\n",
    "import numpy as np\n",
    "import matplotlib.pyplot as plt\n",
    "from sklearn.model_selection import train_test_split # data split\n",
    "from sklearn.metrics import f1_score"
   ]
  },
  {
   "cell_type": "code",
   "execution_count": 30,
   "metadata": {},
   "outputs": [
    {
     "data": {
      "text/html": [
       "<div>\n",
       "<style scoped>\n",
       "    .dataframe tbody tr th:only-of-type {\n",
       "        vertical-align: middle;\n",
       "    }\n",
       "\n",
       "    .dataframe tbody tr th {\n",
       "        vertical-align: top;\n",
       "    }\n",
       "\n",
       "    .dataframe thead th {\n",
       "        text-align: right;\n",
       "    }\n",
       "</style>\n",
       "<table border=\"1\" class=\"dataframe\">\n",
       "  <thead>\n",
       "    <tr style=\"text-align: right;\">\n",
       "      <th></th>\n",
       "      <th>Time</th>\n",
       "      <th>V1</th>\n",
       "      <th>V2</th>\n",
       "      <th>V3</th>\n",
       "      <th>V4</th>\n",
       "      <th>V5</th>\n",
       "      <th>V6</th>\n",
       "      <th>V7</th>\n",
       "      <th>V8</th>\n",
       "      <th>V9</th>\n",
       "      <th>...</th>\n",
       "      <th>V21</th>\n",
       "      <th>V22</th>\n",
       "      <th>V23</th>\n",
       "      <th>V24</th>\n",
       "      <th>V25</th>\n",
       "      <th>V26</th>\n",
       "      <th>V27</th>\n",
       "      <th>V28</th>\n",
       "      <th>Amount</th>\n",
       "      <th>Class</th>\n",
       "    </tr>\n",
       "  </thead>\n",
       "  <tbody>\n",
       "    <tr>\n",
       "      <th>0</th>\n",
       "      <td>0.0</td>\n",
       "      <td>-1.359807</td>\n",
       "      <td>-0.072781</td>\n",
       "      <td>2.536347</td>\n",
       "      <td>1.378155</td>\n",
       "      <td>-0.338321</td>\n",
       "      <td>0.462388</td>\n",
       "      <td>0.239599</td>\n",
       "      <td>0.098698</td>\n",
       "      <td>0.363787</td>\n",
       "      <td>...</td>\n",
       "      <td>-0.018307</td>\n",
       "      <td>0.277838</td>\n",
       "      <td>-0.110474</td>\n",
       "      <td>0.066928</td>\n",
       "      <td>0.128539</td>\n",
       "      <td>-0.189115</td>\n",
       "      <td>0.133558</td>\n",
       "      <td>-0.021053</td>\n",
       "      <td>149.62</td>\n",
       "      <td>0</td>\n",
       "    </tr>\n",
       "    <tr>\n",
       "      <th>1</th>\n",
       "      <td>0.0</td>\n",
       "      <td>1.191857</td>\n",
       "      <td>0.266151</td>\n",
       "      <td>0.166480</td>\n",
       "      <td>0.448154</td>\n",
       "      <td>0.060018</td>\n",
       "      <td>-0.082361</td>\n",
       "      <td>-0.078803</td>\n",
       "      <td>0.085102</td>\n",
       "      <td>-0.255425</td>\n",
       "      <td>...</td>\n",
       "      <td>-0.225775</td>\n",
       "      <td>-0.638672</td>\n",
       "      <td>0.101288</td>\n",
       "      <td>-0.339846</td>\n",
       "      <td>0.167170</td>\n",
       "      <td>0.125895</td>\n",
       "      <td>-0.008983</td>\n",
       "      <td>0.014724</td>\n",
       "      <td>2.69</td>\n",
       "      <td>0</td>\n",
       "    </tr>\n",
       "    <tr>\n",
       "      <th>2</th>\n",
       "      <td>1.0</td>\n",
       "      <td>-1.358354</td>\n",
       "      <td>-1.340163</td>\n",
       "      <td>1.773209</td>\n",
       "      <td>0.379780</td>\n",
       "      <td>-0.503198</td>\n",
       "      <td>1.800499</td>\n",
       "      <td>0.791461</td>\n",
       "      <td>0.247676</td>\n",
       "      <td>-1.514654</td>\n",
       "      <td>...</td>\n",
       "      <td>0.247998</td>\n",
       "      <td>0.771679</td>\n",
       "      <td>0.909412</td>\n",
       "      <td>-0.689281</td>\n",
       "      <td>-0.327642</td>\n",
       "      <td>-0.139097</td>\n",
       "      <td>-0.055353</td>\n",
       "      <td>-0.059752</td>\n",
       "      <td>378.66</td>\n",
       "      <td>0</td>\n",
       "    </tr>\n",
       "    <tr>\n",
       "      <th>3</th>\n",
       "      <td>1.0</td>\n",
       "      <td>-0.966272</td>\n",
       "      <td>-0.185226</td>\n",
       "      <td>1.792993</td>\n",
       "      <td>-0.863291</td>\n",
       "      <td>-0.010309</td>\n",
       "      <td>1.247203</td>\n",
       "      <td>0.237609</td>\n",
       "      <td>0.377436</td>\n",
       "      <td>-1.387024</td>\n",
       "      <td>...</td>\n",
       "      <td>-0.108300</td>\n",
       "      <td>0.005274</td>\n",
       "      <td>-0.190321</td>\n",
       "      <td>-1.175575</td>\n",
       "      <td>0.647376</td>\n",
       "      <td>-0.221929</td>\n",
       "      <td>0.062723</td>\n",
       "      <td>0.061458</td>\n",
       "      <td>123.50</td>\n",
       "      <td>0</td>\n",
       "    </tr>\n",
       "    <tr>\n",
       "      <th>4</th>\n",
       "      <td>2.0</td>\n",
       "      <td>-1.158233</td>\n",
       "      <td>0.877737</td>\n",
       "      <td>1.548718</td>\n",
       "      <td>0.403034</td>\n",
       "      <td>-0.407193</td>\n",
       "      <td>0.095921</td>\n",
       "      <td>0.592941</td>\n",
       "      <td>-0.270533</td>\n",
       "      <td>0.817739</td>\n",
       "      <td>...</td>\n",
       "      <td>-0.009431</td>\n",
       "      <td>0.798278</td>\n",
       "      <td>-0.137458</td>\n",
       "      <td>0.141267</td>\n",
       "      <td>-0.206010</td>\n",
       "      <td>0.502292</td>\n",
       "      <td>0.219422</td>\n",
       "      <td>0.215153</td>\n",
       "      <td>69.99</td>\n",
       "      <td>0</td>\n",
       "    </tr>\n",
       "  </tbody>\n",
       "</table>\n",
       "<p>5 rows × 31 columns</p>\n",
       "</div>"
      ],
      "text/plain": [
       "   Time        V1        V2        V3        V4        V5        V6        V7  \\\n",
       "0   0.0 -1.359807 -0.072781  2.536347  1.378155 -0.338321  0.462388  0.239599   \n",
       "1   0.0  1.191857  0.266151  0.166480  0.448154  0.060018 -0.082361 -0.078803   \n",
       "2   1.0 -1.358354 -1.340163  1.773209  0.379780 -0.503198  1.800499  0.791461   \n",
       "3   1.0 -0.966272 -0.185226  1.792993 -0.863291 -0.010309  1.247203  0.237609   \n",
       "4   2.0 -1.158233  0.877737  1.548718  0.403034 -0.407193  0.095921  0.592941   \n",
       "\n",
       "         V8        V9  ...       V21       V22       V23       V24       V25  \\\n",
       "0  0.098698  0.363787  ... -0.018307  0.277838 -0.110474  0.066928  0.128539   \n",
       "1  0.085102 -0.255425  ... -0.225775 -0.638672  0.101288 -0.339846  0.167170   \n",
       "2  0.247676 -1.514654  ...  0.247998  0.771679  0.909412 -0.689281 -0.327642   \n",
       "3  0.377436 -1.387024  ... -0.108300  0.005274 -0.190321 -1.175575  0.647376   \n",
       "4 -0.270533  0.817739  ... -0.009431  0.798278 -0.137458  0.141267 -0.206010   \n",
       "\n",
       "        V26       V27       V28  Amount  Class  \n",
       "0 -0.189115  0.133558 -0.021053  149.62      0  \n",
       "1  0.125895 -0.008983  0.014724    2.69      0  \n",
       "2 -0.139097 -0.055353 -0.059752  378.66      0  \n",
       "3 -0.221929  0.062723  0.061458  123.50      0  \n",
       "4  0.502292  0.219422  0.215153   69.99      0  \n",
       "\n",
       "[5 rows x 31 columns]"
      ]
     },
     "execution_count": 30,
     "metadata": {},
     "output_type": "execute_result"
    }
   ],
   "source": [
    "# 데이터 불러오기\n",
    "data = pd.read_csv('../input/creditcardfraud/creditcard.csv')\n",
    "data.head()"
   ]
  },
  {
   "cell_type": "code",
   "execution_count": 31,
   "metadata": {
    "scrolled": false
   },
   "outputs": [
    {
     "name": "stdout",
     "output_type": "stream",
     "text": [
      "Number of normal data: 284315\n",
      "Number of abnormal data: 492\n"
     ]
    }
   ],
   "source": [
    "# normal/abnormal 데이터 분리\n",
    "normal_data = data[data['Class'] == 0]\n",
    "abnormal_data = data[data['Class'] == 1]\n",
    "\n",
    "print('Number of normal data:', len(normal_data))\n",
    "print('Number of abnormal data:', len(abnormal_data))"
   ]
  },
  {
   "cell_type": "code",
   "execution_count": 32,
   "metadata": {},
   "outputs": [],
   "source": [
    "# 데이터 분할\n",
    "# normal -> train:val:test = 7:3\n",
    "normal_train, normal_test = train_test_split(normal_data, test_size=0.3, random_state=42)"
   ]
  },
  {
   "cell_type": "code",
   "execution_count": 33,
   "metadata": {},
   "outputs": [
    {
     "name": "stdout",
     "output_type": "stream",
     "text": [
      "Number of train data: 199020\n",
      "Number of test data: 85787 ( normal: 85295 & abnormal: 492 )\n"
     ]
    }
   ],
   "source": [
    "train_data = normal_train\n",
    "test_data = pd.concat([normal_test, abnormal_data])\n",
    "\n",
    "print('Number of train data:', len(train_data))\n",
    "print('Number of test data:', len(test_data), \\\n",
    "      '( normal:', len(test_data[test_data['Class'] == 0]), \\\n",
    "      '& abnormal:', len(test_data[test_data['Class'] == 1]), ')')"
   ]
  },
  {
   "cell_type": "code",
   "execution_count": 34,
   "metadata": {},
   "outputs": [],
   "source": [
    "imp_var = ['V3', 'V4', 'V7', 'V9', 'V10', 'V11', 'V12', 'V14', 'V16', 'V17', 'V18']"
   ]
  },
  {
   "cell_type": "code",
   "execution_count": 35,
   "metadata": {},
   "outputs": [],
   "source": [
    "# 종속변수 & 독립변수 분리\n",
    "x_train = train_data.loc[:, imp_var]\n",
    "x_test = test_data.loc[:, imp_var]\n",
    "y_test = test_data.iloc[:, -1].values"
   ]
  },
  {
   "cell_type": "markdown",
   "metadata": {},
   "source": [
    "### Step2. 정상 데이터 기반 IF 모델 학습"
   ]
  },
  {
   "cell_type": "code",
   "execution_count": 36,
   "metadata": {},
   "outputs": [],
   "source": [
    "from sklearn.ensemble import IsolationForest"
   ]
  },
  {
   "cell_type": "markdown",
   "metadata": {},
   "source": [
    "- IsolationForest 설명\n",
    "    - n_estimators: 트리 개수. 디폴트 100\n",
    "    - bootstrap: 데이터의 중복 사용 여부. 디폴트 False\n",
    "    - max_samples: 데이터 샘플 중 선택할 샘플의 수 혹은 비율 ('auto': max_samples=min(256, n_samples)) . 디폴트 'auto'"
   ]
  },
  {
   "cell_type": "code",
   "execution_count": 37,
   "metadata": {},
   "outputs": [
    {
     "data": {
      "text/plain": [
       "IsolationForest(random_state=42)"
      ]
     },
     "execution_count": 37,
     "metadata": {},
     "output_type": "execute_result"
    }
   ],
   "source": [
    "if_model = IsolationForest(random_state=42)\n",
    "if_model.fit(x_train)"
   ]
  },
  {
   "cell_type": "markdown",
   "metadata": {},
   "source": [
    "### Step3. Test 데이터 기반 이상치 탐지 모형 검증"
   ]
  },
  {
   "cell_type": "code",
   "execution_count": 38,
   "metadata": {
    "scrolled": true
   },
   "outputs": [
    {
     "data": {
      "text/plain": [
       "array([ 1,  1,  1, ..., -1, -1,  1])"
      ]
     },
     "execution_count": 38,
     "metadata": {},
     "output_type": "execute_result"
    }
   ],
   "source": [
    "# 1: normal, -1: abnormal\n",
    "if_y_pred = if_model.predict(x_test)\n",
    "if_y_pred"
   ]
  },
  {
   "cell_type": "code",
   "execution_count": 39,
   "metadata": {},
   "outputs": [],
   "source": [
    "if_y_pred = np.array([1 if y == -1 else 0 for y in if_y_pred])"
   ]
  },
  {
   "cell_type": "code",
   "execution_count": 40,
   "metadata": {
    "scrolled": true
   },
   "outputs": [
    {
     "data": {
      "text/plain": [
       "0.12343596232250809"
      ]
     },
     "execution_count": 40,
     "metadata": {},
     "output_type": "execute_result"
    }
   ],
   "source": [
    "# 테스트 데이터에 대한 성능 평가 (=0.1234)\n",
    "if_f1 = f1_score(y_true=y_test, y_pred=if_y_pred)\n",
    "if_f1"
   ]
  },
  {
   "cell_type": "code",
   "execution_count": 41,
   "metadata": {},
   "outputs": [],
   "source": [
    "# 정상/비정상 데이터 별 accuracy 평가\n",
    "if_normal_pred = if_y_pred[y_test == 0]\n",
    "if_abnormal_pred = if_y_pred[y_test == 1]"
   ]
  },
  {
   "cell_type": "code",
   "execution_count": 42,
   "metadata": {},
   "outputs": [
    {
     "name": "stdout",
     "output_type": "stream",
     "text": [
      "Accuracy in Normal Cases: 0.9275221290814233\n",
      "Accuracy in Abnormal Fraud Cases: 0.8922764227642277\n"
     ]
    }
   ],
   "source": [
    "print(\"Accuracy in Normal Cases:\", list(if_normal_pred).count(0) / len(if_normal_pred))\n",
    "print(\"Accuracy in Abnormal Fraud Cases:\", list(if_abnormal_pred).count(1)/len(if_abnormal_pred))"
   ]
  },
  {
   "cell_type": "markdown",
   "metadata": {},
   "source": [
    "---"
   ]
  }
 ],
 "metadata": {
  "kernelspec": {
   "display_name": "Python 3",
   "language": "python",
   "name": "python3"
  },
  "language_info": {
   "codemirror_mode": {
    "name": "ipython",
    "version": 3
   },
   "file_extension": ".py",
   "mimetype": "text/x-python",
   "name": "python",
   "nbconvert_exporter": "python",
   "pygments_lexer": "ipython3",
   "version": "3.8.6"
  }
 },
 "nbformat": 4,
 "nbformat_minor": 4
}
